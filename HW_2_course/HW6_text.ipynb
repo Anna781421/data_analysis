{
 "cells": [
  {
   "cell_type": "markdown",
   "metadata": {},
   "source": [
    "# Домашнее задание 6: классификация текстов"
   ]
  },
  {
   "cell_type": "markdown",
   "metadata": {},
   "source": [
    "В этом домашнем задании вам предстоит построить классификатор текстов и поучаствовать в соревновании на Kaggle!\n",
    "Первым делом вам предстоит построить хороший бейзлайн, а дальше пытаться улучшать, соревнуясь с другими участниками.\n",
    "\n",
    "\n",
    "Ссылка на соревнование: https://www.kaggle.com/c/avito-category-prediction/overview\n",
    "Данные для домашнего задания можно скачать на странице соревнования.\n",
    "Чтобы ваше участие было засчитано, убедитесь, что имя в Leaderboard имеет вид: «Имя Фамилия номер_группы».\n",
    "\n",
    "Оценивание:\n",
    "\n",
    "Домашнее задание оценивается как обычно. Баллы указаны напротив заданий.\n",
    "\n",
    "За соревнование даются бонусные баллы следующим образом.\n",
    "Если вы пересекли baseline_2 на приватном лидерборде, ваша оценка равна \n",
    "\n",
    "10 - 10 * (i - 1) / M\n",
    "\n",
    "где M — количество студентов, принявших участие в соревновании;\n",
    "\n",
    "i — место (начиная с 1) студента в приватном лидерборде среди всех таких студентов.\n",
    "\n",
    "Правила:\n",
    "\n",
    "* Домашнее задание оценивается в 10 баллов.\n",
    "\n",
    "* Плагиат не допускается. При обнаружении случаев списывания, 0 за работу выставляется всем участникам нарушения, даже если можно установить, кто у кого списал.\n",
    "\n",
    "* Старайтесь сделать код как можно более оптимальным. В частности, будет штрафоваться использование циклов в тех случаях, когда операцию можно совершить при помощи инструментов библиотек, о которых рассказывалось в курсе.  \n",
    "\n",
    "* В течение 3 суток после окончания соревнования в соответствующее задание на anytask необходимо прислать код, воспроизводящий ответы для посылки, фигурирующей в приватном лидерборде. В случае отсутствия кода, воспроизводящего результат, в установленный срок студенту выставляется 0 в качестве оценки за соревнование. Если не оговорено иное, использовать любые внешние данные в соревнованиях '''запрещено'''. Под внешними данными понимаются размеченные данные, где разметка имеет прямое отношение к решаемой задаче. Грубо говоря, сборник текстов с википедии не считается внешними данными.\n"
   ]
  },
  {
   "cell_type": "markdown",
   "metadata": {},
   "source": [
    "Мы будем работать с датасетом объявлений Avito. Нам предстоит по заголовку и тексту объявления предсказывать категорию объявления."
   ]
  },
  {
   "cell_type": "code",
   "execution_count": 1,
   "metadata": {},
   "outputs": [],
   "source": [
    "import pandas as pd\n",
    "import numpy as np"
   ]
  },
  {
   "cell_type": "code",
   "execution_count": 2,
   "metadata": {},
   "outputs": [],
   "source": [
    "train = pd.read_csv('train.csv')\n",
    "test = pd.read_csv('test.csv')"
   ]
  },
  {
   "cell_type": "code",
   "execution_count": null,
   "metadata": {},
   "outputs": [],
   "source": [
    "#train = train.sample(10000) # Мой ноутбук не может работать с бОльшими объемами. Мои ответы не будут совпадать, но альтернативы нет..."
   ]
  },
  {
   "cell_type": "code",
   "execution_count": null,
   "metadata": {},
   "outputs": [],
   "source": [
    "# train.head()"
   ]
  },
  {
   "cell_type": "code",
   "execution_count": 3,
   "metadata": {},
   "outputs": [
    {
     "data": {
      "text/plain": [
       "(4234042, 4)"
      ]
     },
     "execution_count": 3,
     "metadata": {},
     "output_type": "execute_result"
    }
   ],
   "source": [
    "train.shape"
   ]
  },
  {
   "cell_type": "markdown",
   "metadata": {},
   "source": [
    "## Задание 1 (0.5 балла)\n",
    "\n",
    "Выведете на экран информацию о пропусках в данных. Если пропуски присутствуют заполните их пустой строкой."
   ]
  },
  {
   "cell_type": "code",
   "execution_count": 4,
   "metadata": {},
   "outputs": [
    {
     "name": "stdout",
     "output_type": "stream",
     "text": [
      "title            0\n",
      "description      2\n",
      "Category_name    0\n",
      "Category         0\n",
      "dtype: int64\n"
     ]
    }
   ],
   "source": [
    "if train.isnull().any().any():\n",
    "    print(train.isnull().sum()) # Проверила, пропуски есть; посмотрела где. "
   ]
  },
  {
   "cell_type": "code",
   "execution_count": 5,
   "metadata": {},
   "outputs": [
    {
     "data": {
      "text/plain": [
       "title            0\n",
       "description      0\n",
       "Category_name    0\n",
       "Category         0\n",
       "dtype: int64"
      ]
     },
     "execution_count": 5,
     "metadata": {},
     "output_type": "execute_result"
    }
   ],
   "source": [
    "train = train.fillna(\"\")\n",
    "train.isnull().sum() # Заменила пустыми; проверила. "
   ]
  },
  {
   "cell_type": "code",
   "execution_count": 6,
   "metadata": {},
   "outputs": [],
   "source": [
    "if test.isnull().any().any():\n",
    "    test = test.fillna(\"\") # Аналогично заменила в тествовой выборке. "
   ]
  },
  {
   "cell_type": "code",
   "execution_count": 7,
   "metadata": {},
   "outputs": [
    {
     "data": {
      "text/plain": [
       "title          0\n",
       "description    0\n",
       "itemid         0\n",
       "dtype: int64"
      ]
     },
     "execution_count": 7,
     "metadata": {},
     "output_type": "execute_result"
    }
   ],
   "source": [
    "test.isnull().sum()"
   ]
  },
  {
   "cell_type": "markdown",
   "metadata": {},
   "source": [
    "## Задание 2 (0.5 балла)\n",
    "Сконкатенируйте заголовок и описание в единую строку и поместите результат в отдельный столбец. Таким образом мы будет работать с одним текстом, а не с двумя."
   ]
  },
  {
   "cell_type": "code",
   "execution_count": 8,
   "metadata": {},
   "outputs": [],
   "source": [
    "train[\"title&description\"] = train[\"title\"] + train[\"description\"]\n",
    "#train.head()"
   ]
  },
  {
   "cell_type": "code",
   "execution_count": 9,
   "metadata": {},
   "outputs": [],
   "source": [
    "test[\"title&description\"] = test[\"title\"] + test[\"description\"]"
   ]
  },
  {
   "cell_type": "code",
   "execution_count": 10,
   "metadata": {},
   "outputs": [
    {
     "data": {
      "text/html": [
       "<div>\n",
       "<style scoped>\n",
       "    .dataframe tbody tr th:only-of-type {\n",
       "        vertical-align: middle;\n",
       "    }\n",
       "\n",
       "    .dataframe tbody tr th {\n",
       "        vertical-align: top;\n",
       "    }\n",
       "\n",
       "    .dataframe thead th {\n",
       "        text-align: right;\n",
       "    }\n",
       "</style>\n",
       "<table border=\"1\" class=\"dataframe\">\n",
       "  <thead>\n",
       "    <tr style=\"text-align: right;\">\n",
       "      <th></th>\n",
       "      <th>title</th>\n",
       "      <th>description</th>\n",
       "      <th>Category_name</th>\n",
       "      <th>Category</th>\n",
       "      <th>title&amp;description</th>\n",
       "    </tr>\n",
       "  </thead>\n",
       "  <tbody>\n",
       "    <tr>\n",
       "      <th>0</th>\n",
       "      <td>Эбу Renault / Nissan 1,5 DCI Delphi 2001-2008 год</td>\n",
       "      <td>Комплект ЭБУ (мозги, компьютер мотора, двигате...</td>\n",
       "      <td>Запчасти и аксессуары</td>\n",
       "      <td>10</td>\n",
       "      <td>Эбу Renault / Nissan 1,5 DCI Delphi 2001-2008 ...</td>\n",
       "    </tr>\n",
       "    <tr>\n",
       "      <th>1</th>\n",
       "      <td>Утюг утп 1000 ватт СССР 1987 год</td>\n",
       "      <td>Продам/\\n Фото № 1-2 /\\n /\\nУтюг УТП 1000 ватт...</td>\n",
       "      <td>Бытовая техника</td>\n",
       "      <td>21</td>\n",
       "      <td>Утюг утп 1000 ватт СССР 1987 годПродам/\\n Фото...</td>\n",
       "    </tr>\n",
       "    <tr>\n",
       "      <th>2</th>\n",
       "      <td>Возвму машину с выкупом</td>\n",
       "      <td>Возьму машину в аренду с последующим выкупом н...</td>\n",
       "      <td>Предложение услуг</td>\n",
       "      <td>114</td>\n",
       "      <td>Возвму машину с выкупомВозьму машину в аренду ...</td>\n",
       "    </tr>\n",
       "    <tr>\n",
       "      <th>3</th>\n",
       "      <td>Полусапожки</td>\n",
       "      <td>полусапожки в отличном состоянии, один раз оде...</td>\n",
       "      <td>Одежда, обувь, аксессуары</td>\n",
       "      <td>27</td>\n",
       "      <td>Полусапожкиполусапожки в отличном состоянии, о...</td>\n",
       "    </tr>\n",
       "    <tr>\n",
       "      <th>4</th>\n",
       "      <td>Босоножки кожаные</td>\n",
       "      <td>Кожаные(натур) босоножки Karlo Pasolini, 40 рр...</td>\n",
       "      <td>Одежда, обувь, аксессуары</td>\n",
       "      <td>27</td>\n",
       "      <td>Босоножки кожаныеКожаные(натур) босоножки Karl...</td>\n",
       "    </tr>\n",
       "    <tr>\n",
       "      <th>...</th>\n",
       "      <td>...</td>\n",
       "      <td>...</td>\n",
       "      <td>...</td>\n",
       "      <td>...</td>\n",
       "      <td>...</td>\n",
       "    </tr>\n",
       "    <tr>\n",
       "      <th>4234037</th>\n",
       "      <td>Мопед Дельта Мотоланд 70 кубиков</td>\n",
       "      <td>Продам новый мопед Дельта купленный 18 июня 20...</td>\n",
       "      <td>Мотоциклы и мототехника</td>\n",
       "      <td>14</td>\n",
       "      <td>Мопед Дельта Мотоланд 70 кубиковПродам новый м...</td>\n",
       "    </tr>\n",
       "    <tr>\n",
       "      <th>4234038</th>\n",
       "      <td>Xiaomi A2 4/64 почти новый (б/у 3 дня)</td>\n",
       "      <td>Xiaomi A2 версия 4/64. /\\nВерсия полноценная, ...</td>\n",
       "      <td>Телефоны</td>\n",
       "      <td>84</td>\n",
       "      <td>Xiaomi A2 4/64 почти новый (б/у 3 дня)Xiaomi A...</td>\n",
       "    </tr>\n",
       "    <tr>\n",
       "      <th>4234039</th>\n",
       "      <td>Шерстяной комбинезон Joha</td>\n",
       "      <td>В отличном состоянии. Мягкий, приятный к телу....</td>\n",
       "      <td>Детская одежда и обувь</td>\n",
       "      <td>29</td>\n",
       "      <td>Шерстяной комбинезон JohaВ отличном состоянии....</td>\n",
       "    </tr>\n",
       "    <tr>\n",
       "      <th>4234040</th>\n",
       "      <td>Джинсы фирмы Zara р.152</td>\n",
       "      <td>Новые</td>\n",
       "      <td>Детская одежда и обувь</td>\n",
       "      <td>29</td>\n",
       "      <td>Джинсы фирмы Zara р.152Новые</td>\n",
       "    </tr>\n",
       "    <tr>\n",
       "      <th>4234041</th>\n",
       "      <td>Дом 105 м² на участке 10 сот.</td>\n",
       "      <td>Продам полдома , земли 10 сот . Газ , вода на ...</td>\n",
       "      <td>Дома, дачи, коттеджи</td>\n",
       "      <td>25</td>\n",
       "      <td>Дом 105 м² на участке 10 сот.Продам полдома , ...</td>\n",
       "    </tr>\n",
       "  </tbody>\n",
       "</table>\n",
       "<p>4234042 rows × 5 columns</p>\n",
       "</div>"
      ],
      "text/plain": [
       "                                                     title  \\\n",
       "0        Эбу Renault / Nissan 1,5 DCI Delphi 2001-2008 год   \n",
       "1                         Утюг утп 1000 ватт СССР 1987 год   \n",
       "2                                  Возвму машину с выкупом   \n",
       "3                                              Полусапожки   \n",
       "4                                        Босоножки кожаные   \n",
       "...                                                    ...   \n",
       "4234037                   Мопед Дельта Мотоланд 70 кубиков   \n",
       "4234038             Xiaomi A2 4/64 почти новый (б/у 3 дня)   \n",
       "4234039                          Шерстяной комбинезон Joha   \n",
       "4234040                            Джинсы фирмы Zara р.152   \n",
       "4234041                      Дом 105 м² на участке 10 сот.   \n",
       "\n",
       "                                               description  \\\n",
       "0        Комплект ЭБУ (мозги, компьютер мотора, двигате...   \n",
       "1        Продам/\\n Фото № 1-2 /\\n /\\nУтюг УТП 1000 ватт...   \n",
       "2        Возьму машину в аренду с последующим выкупом н...   \n",
       "3        полусапожки в отличном состоянии, один раз оде...   \n",
       "4        Кожаные(натур) босоножки Karlo Pasolini, 40 рр...   \n",
       "...                                                    ...   \n",
       "4234037  Продам новый мопед Дельта купленный 18 июня 20...   \n",
       "4234038  Xiaomi A2 версия 4/64. /\\nВерсия полноценная, ...   \n",
       "4234039  В отличном состоянии. Мягкий, приятный к телу....   \n",
       "4234040                                              Новые   \n",
       "4234041  Продам полдома , земли 10 сот . Газ , вода на ...   \n",
       "\n",
       "                     Category_name  Category  \\\n",
       "0            Запчасти и аксессуары        10   \n",
       "1                  Бытовая техника        21   \n",
       "2                Предложение услуг       114   \n",
       "3        Одежда, обувь, аксессуары        27   \n",
       "4        Одежда, обувь, аксессуары        27   \n",
       "...                            ...       ...   \n",
       "4234037    Мотоциклы и мототехника        14   \n",
       "4234038                   Телефоны        84   \n",
       "4234039     Детская одежда и обувь        29   \n",
       "4234040     Детская одежда и обувь        29   \n",
       "4234041       Дома, дачи, коттеджи        25   \n",
       "\n",
       "                                         title&description  \n",
       "0        Эбу Renault / Nissan 1,5 DCI Delphi 2001-2008 ...  \n",
       "1        Утюг утп 1000 ватт СССР 1987 годПродам/\\n Фото...  \n",
       "2        Возвму машину с выкупомВозьму машину в аренду ...  \n",
       "3        Полусапожкиполусапожки в отличном состоянии, о...  \n",
       "4        Босоножки кожаныеКожаные(натур) босоножки Karl...  \n",
       "...                                                    ...  \n",
       "4234037  Мопед Дельта Мотоланд 70 кубиковПродам новый м...  \n",
       "4234038  Xiaomi A2 4/64 почти новый (б/у 3 дня)Xiaomi A...  \n",
       "4234039  Шерстяной комбинезон JohaВ отличном состоянии....  \n",
       "4234040                       Джинсы фирмы Zara р.152Новые  \n",
       "4234041  Дом 105 м² на участке 10 сот.Продам полдома , ...  \n",
       "\n",
       "[4234042 rows x 5 columns]"
      ]
     },
     "execution_count": 10,
     "metadata": {},
     "output_type": "execute_result"
    }
   ],
   "source": [
    "train"
   ]
  },
  {
   "cell_type": "markdown",
   "metadata": {},
   "source": [
    "## Задание 3 (0.5 балла)\n",
    "Давайте немного посмотрим на наши данные. Визуализируйте (где явно просят) или выведете информацию о следующем:\n",
    "\n",
    "1. Сколько всего уникальных классов необходимо предсказать?\n",
    "2. Постройте столбчатую диаграмму распределения по классам. Нормализуйте график, чтобы видеть доли, а не абсолютные значения.\n",
    "3. На сколько большой дисбаланс? Какой класс имеет самую большую долю в выборке (укажите класс и долю), какой класс наименьшую (укажите класс и долю)."
   ]
  },
  {
   "cell_type": "markdown",
   "metadata": {},
   "source": [
    "1."
   ]
  },
  {
   "cell_type": "code",
   "execution_count": 11,
   "metadata": {},
   "outputs": [
    {
     "name": "stdout",
     "output_type": "stream",
     "text": [
      "50 уникальных классов.\n"
     ]
    }
   ],
   "source": [
    "print(train[\"Category\"].unique().shape[0], 'уникальных классов.')"
   ]
  },
  {
   "cell_type": "markdown",
   "metadata": {},
   "source": [
    "2."
   ]
  },
  {
   "cell_type": "code",
   "execution_count": 12,
   "metadata": {},
   "outputs": [],
   "source": [
    "import matplotlib.pyplot as plt\n",
    "import seaborn as sns"
   ]
  },
  {
   "cell_type": "code",
   "execution_count": 13,
   "metadata": {
    "scrolled": true
   },
   "outputs": [
    {
     "data": {
      "image/png": "[encoded data removed]",
      "text/plain": [
       "<Figure size 1080x432 with 1 Axes>"
      ]
     },
     "metadata": {
      "needs_background": "light"
     },
     "output_type": "display_data"
    }
   ],
   "source": [
    "categories = train['Category'].value_counts()\n",
    "fig, ax = plt.subplots(figsize=(15, 6))\n",
    "plt.title('Столбчатая диаграмма распределения по классам', loc='center')\n",
    "ax = sns.barplot(x=categories.index, y=categories.values/categories.values.sum())\n",
    "ax.set_ylabel('Доли')\n",
    "ax.set_xlabel('Классы')\n",
    "plt.xticks(rotation=90, horizontalalignment='left')\n",
    "plt.show()"
   ]
  },
  {
   "cell_type": "markdown",
   "metadata": {},
   "source": [
    "3."
   ]
  },
  {
   "cell_type": "code",
   "execution_count": 14,
   "metadata": {},
   "outputs": [
    {
     "name": "stdout",
     "output_type": "stream",
     "text": [
      "86    165\n",
      "Name: Category, dtype: int64\n"
     ]
    }
   ],
   "source": [
    "print(categories.nsmallest(1))"
   ]
  },
  {
   "cell_type": "code",
   "execution_count": 16,
   "metadata": {},
   "outputs": [
    {
     "name": "stdout",
     "output_type": "stream",
     "text": [
      "27    765120\n",
      "Name: Category, dtype: int64\n"
     ]
    }
   ],
   "source": [
    "print(categories.nlargest(1))"
   ]
  },
  {
   "cell_type": "markdown",
   "metadata": {},
   "source": [
    "Меньше всего объявлений в категории 86 (0.00004), больше всего в категории 27 (0.1807). В задании этого нет, но можно попробовать удалить часть данных из наиболее представленных категорий (27, 10, 29, 30). Этои данные выровняет и скорость работы увеличит."
   ]
  },
  {
   "cell_type": "code",
   "execution_count": 15,
   "metadata": {},
   "outputs": [],
   "source": [
    "train = train.drop(train[train[\"Category\"] == 27].sample(600000).index, axis=0)\n",
    "train = train.drop(train[train[\"Category\"] == 10].sample(600000).index, axis=0)\n",
    "train = train.drop(train[train[\"Category\"] == 29].sample(450000).index, axis=0)\n",
    "train = train.drop(train[train[\"Category\"] == 30].sample(100000).index, axis=0)"
   ]
  },
  {
   "cell_type": "markdown",
   "metadata": {},
   "source": [
    "## Задание 4 (0.5 балла)\n",
    "\n",
    "Далее мы будем пока работать только с train частью. Для test части нам неизвестны истинные значения, и они понадобятся только тогда, когда мы будем отправлять решение на Kaggle.\n",
    "\n",
    "1. Предобработайте данные (train часть) с помощью CountVectorizer.\n",
    "2. Какого размера получилась матрица?\n"
   ]
  },
  {
   "cell_type": "code",
   "execution_count": 17,
   "metadata": {},
   "outputs": [],
   "source": [
    "from sklearn.feature_extraction.text import CountVectorizer"
   ]
  },
  {
   "cell_type": "code",
   "execution_count": 18,
   "metadata": {},
   "outputs": [],
   "source": [
    "vec = CountVectorizer()\n",
    "bow = vec.fit_transform(train['title&description'])"
   ]
  },
  {
   "cell_type": "code",
   "execution_count": 19,
   "metadata": {},
   "outputs": [
    {
     "name": "stdout",
     "output_type": "stream",
     "text": [
      "Размер матрицы: (2484042, 2569076)\n"
     ]
    }
   ],
   "source": [
    "print(\"Размер матрицы:\", bow.shape)"
   ]
  },
  {
   "cell_type": "markdown",
   "metadata": {},
   "source": [
    "## Задание 5 (0.5 балла)\n",
    "\n",
    "В предыдущем пункте у вас должная была получится очень большая матрица. Это не дело.\n",
    "Если вы взгляните на текст, то увидете, что там есть множество специальных символов.\n",
    "\n",
    "Давайте также посмотрим на словарь, который получился в результате построения CountVectorizer, его можно найти в поле _vocabulary инстанса этого класса.\n",
    "\n",
    "1. Найдите в этом словаре все слова, которые начинаются на цифру. Сколько таких слов нашлось?\n",
    "\n",
    "2. Найдите все слова, которые начинаются на символы пунктуации. Сколько таких слов нашлось? "
   ]
  },
  {
   "cell_type": "code",
   "execution_count": 20,
   "metadata": {},
   "outputs": [],
   "source": [
    "import re"
   ]
  },
  {
   "cell_type": "code",
   "execution_count": 21,
   "metadata": {},
   "outputs": [],
   "source": [
    "A = ' '.join((list(vec.vocabulary_.keys())))"
   ]
  },
  {
   "cell_type": "code",
   "execution_count": 22,
   "metadata": {},
   "outputs": [
    {
     "name": "stdout",
     "output_type": "stream",
     "text": [
      "1008192 слов начинается на цифру.\n"
     ]
    }
   ],
   "source": [
    "prog = re.compile('[\\d]+')\n",
    "print(len(prog.findall(A)), 'слов начинается на цифру.')"
   ]
  },
  {
   "cell_type": "code",
   "execution_count": 23,
   "metadata": {},
   "outputs": [
    {
     "data": {
      "text/plain": [
       "'!\"#$%&\\'()*+,-./:;<=>?@[\\\\]^_`{|}~'"
      ]
     },
     "execution_count": 23,
     "metadata": {},
     "output_type": "execute_result"
    }
   ],
   "source": [
    "from string import punctuation\n",
    "punctuation # Узнаем как выглядят знаки пунктуации"
   ]
  },
  {
   "cell_type": "code",
   "execution_count": 24,
   "metadata": {},
   "outputs": [
    {
     "name": "stdout",
     "output_type": "stream",
     "text": [
      "12947 слов начинается на пунктуацию.\n"
     ]
    }
   ],
   "source": [
    "prog = re.compile('[!\"#$%&\\'()*+,-./:;<=>?@[\\\\]^_`{|}~]+')\n",
    "print(len(prog.findall(A)), 'слов начинается на пунктуацию.')"
   ]
  },
  {
   "cell_type": "markdown",
   "metadata": {},
   "source": [
    "## Задание 6 (2.5 балла)\n",
    "\n",
    "В scikit-learn мы можем оценивать процесс подсчета матрицы через CountVectorizer. У CountVectorizer, как и у других наследников \\_VectorizerMixin, есть аргумент tokenizer и preprocessor. preprocessor применится в самом начале к каждой строке вашего датасета, tokenizer же должен принять строку и вернуть токены.\n",
    "Давайте напишем кастомный токенайзер, которые сделает все, что нам нужно: \n",
    "\n",
    "0. + Приведет все буквы к нижнему регистру\n",
    "1. + Разобьет текст на токены с помощью word_tokenizer из пакета nltk\n",
    "2. + Удалит все токены содержащие числа и пунктуацию\n",
    "3. + Удалит все токены, которые перечислены в nltk.corpus.stopwords('russian')\n",
    "4. + Проведет стемминг с помощью SnowballStemmer\n",
    "\n",
    "Продемонстрируйте работу вашей функии на самом первом описании товара в датасете.\n",
    "\n",
    "Важно: так как функию будет необходимо запускать на большом корпусе, подумайте об эффективной реализации. Постарайтесь решить задачу в минимальное количество циклов и копирований.\n",
    "\n",
    "Референсная реализация на компьютере автора работала 230 секунд на 100к строчек."
   ]
  },
  {
   "cell_type": "code",
   "execution_count": 25,
   "metadata": {},
   "outputs": [],
   "source": [
    "#!pip install nltk"
   ]
  },
  {
   "cell_type": "code",
   "execution_count": 26,
   "metadata": {},
   "outputs": [
    {
     "name": "stderr",
     "output_type": "stream",
     "text": [
      "[nltk_data] Downloading package punkt to\n",
      "[nltk_data]     C:\\Users\\vladimir\\AppData\\Roaming\\nltk_data...\n",
      "[nltk_data]   Package punkt is already up-to-date!\n",
      "[nltk_data] Downloading package stopwords to\n",
      "[nltk_data]     C:\\Users\\vladimir\\AppData\\Roaming\\nltk_data...\n",
      "[nltk_data]   Package stopwords is already up-to-date!\n"
     ]
    },
    {
     "data": {
      "text/plain": [
       "True"
      ]
     },
     "execution_count": 26,
     "metadata": {},
     "output_type": "execute_result"
    }
   ],
   "source": [
    "from nltk.tokenize import word_tokenize\n",
    "import nltk\n",
    "nltk.download('punkt')\n",
    "nltk.download(\"stopwords\")"
   ]
  },
  {
   "cell_type": "code",
   "execution_count": 27,
   "metadata": {},
   "outputs": [],
   "source": [
    "from nltk.stem.snowball import SnowballStemmer\n",
    "from nltk.corpus import stopwords"
   ]
  },
  {
   "cell_type": "code",
   "execution_count": 28,
   "metadata": {},
   "outputs": [],
   "source": [
    "st = SnowballStemmer('russian')\n",
    "sw = stopwords.words('russian')"
   ]
  },
  {
   "cell_type": "code",
   "execution_count": 29,
   "metadata": {},
   "outputs": [],
   "source": [
    "def tokeniz(i):\n",
    "    return [st.stem(word) for word in word_tokenize(i.lower()) if (word.isalpha()) and (word not in sw)]"
   ]
  },
  {
   "cell_type": "code",
   "execution_count": 30,
   "metadata": {},
   "outputs": [
    {
     "data": {
      "text/html": [
       "<div>\n",
       "<style scoped>\n",
       "    .dataframe tbody tr th:only-of-type {\n",
       "        vertical-align: middle;\n",
       "    }\n",
       "\n",
       "    .dataframe tbody tr th {\n",
       "        vertical-align: top;\n",
       "    }\n",
       "\n",
       "    .dataframe thead th {\n",
       "        text-align: right;\n",
       "    }\n",
       "</style>\n",
       "<table border=\"1\" class=\"dataframe\">\n",
       "  <thead>\n",
       "    <tr style=\"text-align: right;\">\n",
       "      <th></th>\n",
       "      <th>title</th>\n",
       "      <th>description</th>\n",
       "      <th>Category_name</th>\n",
       "      <th>Category</th>\n",
       "      <th>title&amp;description</th>\n",
       "    </tr>\n",
       "  </thead>\n",
       "  <tbody>\n",
       "    <tr>\n",
       "      <th>1</th>\n",
       "      <td>Утюг утп 1000 ватт СССР 1987 год</td>\n",
       "      <td>Продам/\\n Фото № 1-2 /\\n /\\nУтюг УТП 1000 ватт...</td>\n",
       "      <td>Бытовая техника</td>\n",
       "      <td>21</td>\n",
       "      <td>Утюг утп 1000 ватт СССР 1987 годПродам/\\n Фото...</td>\n",
       "    </tr>\n",
       "    <tr>\n",
       "      <th>2</th>\n",
       "      <td>Возвму машину с выкупом</td>\n",
       "      <td>Возьму машину в аренду с последующим выкупом н...</td>\n",
       "      <td>Предложение услуг</td>\n",
       "      <td>114</td>\n",
       "      <td>Возвму машину с выкупомВозьму машину в аренду ...</td>\n",
       "    </tr>\n",
       "    <tr>\n",
       "      <th>3</th>\n",
       "      <td>Полусапожки</td>\n",
       "      <td>полусапожки в отличном состоянии, один раз оде...</td>\n",
       "      <td>Одежда, обувь, аксессуары</td>\n",
       "      <td>27</td>\n",
       "      <td>Полусапожкиполусапожки в отличном состоянии, о...</td>\n",
       "    </tr>\n",
       "    <tr>\n",
       "      <th>4</th>\n",
       "      <td>Босоножки кожаные</td>\n",
       "      <td>Кожаные(натур) босоножки Karlo Pasolini, 40 рр...</td>\n",
       "      <td>Одежда, обувь, аксессуары</td>\n",
       "      <td>27</td>\n",
       "      <td>Босоножки кожаныеКожаные(натур) босоножки Karl...</td>\n",
       "    </tr>\n",
       "    <tr>\n",
       "      <th>6</th>\n",
       "      <td>Сандали котофей</td>\n",
       "      <td>Котофей фирма, на первые шаги. Размер 20</td>\n",
       "      <td>Детская одежда и обувь</td>\n",
       "      <td>29</td>\n",
       "      <td>Сандали котофейКотофей фирма, на первые шаги. ...</td>\n",
       "    </tr>\n",
       "  </tbody>\n",
       "</table>\n",
       "</div>"
      ],
      "text/plain": [
       "                              title  \\\n",
       "1  Утюг утп 1000 ватт СССР 1987 год   \n",
       "2           Возвму машину с выкупом   \n",
       "3                       Полусапожки   \n",
       "4                 Босоножки кожаные   \n",
       "6                   Сандали котофей   \n",
       "\n",
       "                                         description  \\\n",
       "1  Продам/\\n Фото № 1-2 /\\n /\\nУтюг УТП 1000 ватт...   \n",
       "2  Возьму машину в аренду с последующим выкупом н...   \n",
       "3  полусапожки в отличном состоянии, один раз оде...   \n",
       "4  Кожаные(натур) босоножки Karlo Pasolini, 40 рр...   \n",
       "6           Котофей фирма, на первые шаги. Размер 20   \n",
       "\n",
       "               Category_name  Category  \\\n",
       "1            Бытовая техника        21   \n",
       "2          Предложение услуг       114   \n",
       "3  Одежда, обувь, аксессуары        27   \n",
       "4  Одежда, обувь, аксессуары        27   \n",
       "6     Детская одежда и обувь        29   \n",
       "\n",
       "                                   title&description  \n",
       "1  Утюг утп 1000 ватт СССР 1987 годПродам/\\n Фото...  \n",
       "2  Возвму машину с выкупомВозьму машину в аренду ...  \n",
       "3  Полусапожкиполусапожки в отличном состоянии, о...  \n",
       "4  Босоножки кожаныеКожаные(натур) босоножки Karl...  \n",
       "6  Сандали котофейКотофей фирма, на первые шаги. ...  "
      ]
     },
     "execution_count": 30,
     "metadata": {},
     "output_type": "execute_result"
    }
   ],
   "source": [
    "train.head()"
   ]
  },
  {
   "cell_type": "code",
   "execution_count": 31,
   "metadata": {},
   "outputs": [
    {
     "name": "stdout",
     "output_type": "stream",
     "text": [
      "Пример работы\n",
      "['ford', 'focus', 'горя', 'предложен', 'автомоб', 'пробег', 'рольф', 'витебск', 'налич', 'автомобил', 'обменя', 'сво', 'автомобил', 'выгодн', 'услов', 'уникальн', 'услов', 'продаж', 'автомобил', 'кред', 'представл', 'банк', 'партнер', 'ваш', 'мечт', 'автомобил', 'осуществ', 'сегодн', 'рольф', 'витебск', 'автомобил', 'нача', 'эксплуатац', 'оригина', 'птс', 'собственник', 'все', 'врем', 'своевремен', 'полн', 'комплект', 'ключ', 'оригинальн', 'автомобил', 'прошел', 'комплексн', 'техническ', 'диагностик', 'проверк', 'юридическ', 'сдан', 'зачет', 'систем', 'продавц', 'рольф', 'витебск', 'bluefish', 'эт', 'надежн', 'автомоб', 'пробег', 'куп', 'авт', 'пробег', 'bluefish', 'эт', 'удобн', 'быстр', 'выгодн', 'максимальн', 'выгод', 'обмен', 'сво', 'автомобил', 'установк', 'дополнительн', 'оборудован', 'автомобил', 'прошел', 'комплексн', 'техническ', 'диагностик', 'предпродажн', 'проверк', 'параметр', 'гарант', 'юридическ', 'чистот', 'приглаша', 'проведен', 'пробн', 'ознакомительн', 'поездк', 'может', 'провер', 'куз', 'предмет', 'окрашен', 'детал', 'прибор', 'провест', 'осмотр', 'рольф', 'витебск', 'bluefish', 'может', 'приобрест', 'люб', 'автомобил', 'кред', 'годов', 'работа', 'крупн', 'банк', 'страхов', 'компан', 'так', 'а', 'юникредитбанк', 'па', 'совк', 'банк', 'оо', 'русфинанс', 'оо', 'сетелембанк', 'па', 'втб', 'ммс', 'банк', 'кред', 'европ', 'банк', 'банк', 'санкт', 'машин', 'налич', 'посетител', 'автоцентр', 'организова', 'удобн', 'бесплатн', 'метр', 'парк', 'побед', 'обратн', 'курсир', 'бесплатн', 'комфортабельн', 'кред', 'предоставля', 'программ', 'автолайт', 'взнос', 'срок', 'лет', 'валют', 'кредит', 'рубл', 'сумм', 'кредит', 'млн', 'документ', 'необходим', 'рассмотрен', 'паспорт', 'водительск', 'удостоверен', 'втб', 'па', 'генеральн', 'лиценз', 'банк', 'росс', 'техническ', 'характеристик', 'автомобил', 'тип', 'салон', 'ткан', 'динамик', 'систем', 'кондиционирован', 'воздух', 'кондиционер', 'мультирул', 'усилител', 'рул', 'гидроусилител', 'электростеклоподъемник', 'передн', 'электрон', 'систем', 'парковк', 'зад', 'подогр', 'передн', 'сиден', 'электроподъемник', 'передн', 'антиблокировочн', 'систем', 'abs', 'антипробуксовочн', 'систем', 'парктроник', 'подушк', 'безопасн', 'водител', 'подушк', 'безопасн', 'пассажир', 'esp', 'подушк', 'безопасн', 'иммобилайзер', 'центральн', 'замок', 'электропривод', 'регулировк', 'зерка', 'передн', 'противотума', 'фар', 'электрообогр', 'лобов', 'стекл', 'aux', 'бортов', 'компьютер', 'парктроник', 'задн', 'обогр', 'сиден', 'передн', 'проигрывател', 'ауд']\n"
     ]
    }
   ],
   "source": [
    "print('Пример работы')\n",
    "print(tokeniz(train['title&description'][3087153])) # Я сделала случайную выборку, т.к. не могла работать с полным датасетом. "
   ]
  },
  {
   "cell_type": "markdown",
   "metadata": {},
   "source": [
    "## Задание 7 (1 балл)\n",
    "\n",
    "1. Возьмите случайные 500к строк из датасета. Постройте по ним CountVectorizer с применением вашего токенизатора.\n",
    "2. Разбейте полученную матрицу на train, test в отношении 4 к 1. Не забудьте про target переменную.\n",
    "3. Обучите SGDClassifier на полученной выборке.\n",
    "4. Посчитайте метрику accuracy"
   ]
  },
  {
   "cell_type": "markdown",
   "metadata": {},
   "source": [
    "1."
   ]
  },
  {
   "cell_type": "code",
   "execution_count": 36,
   "metadata": {},
   "outputs": [],
   "source": [
    "train = train.sample(500000)"
   ]
  },
  {
   "cell_type": "code",
   "execution_count": 37,
   "metadata": {},
   "outputs": [
    {
     "data": {
      "text/html": [
       "<div>\n",
       "<style scoped>\n",
       "    .dataframe tbody tr th:only-of-type {\n",
       "        vertical-align: middle;\n",
       "    }\n",
       "\n",
       "    .dataframe tbody tr th {\n",
       "        vertical-align: top;\n",
       "    }\n",
       "\n",
       "    .dataframe thead th {\n",
       "        text-align: right;\n",
       "    }\n",
       "</style>\n",
       "<table border=\"1\" class=\"dataframe\">\n",
       "  <thead>\n",
       "    <tr style=\"text-align: right;\">\n",
       "      <th></th>\n",
       "      <th>title</th>\n",
       "      <th>description</th>\n",
       "      <th>Category_name</th>\n",
       "      <th>Category</th>\n",
       "      <th>title&amp;description</th>\n",
       "    </tr>\n",
       "  </thead>\n",
       "  <tbody>\n",
       "    <tr>\n",
       "      <th>3308751</th>\n",
       "      <td>Осенний костюм для утренника в садик</td>\n",
       "      <td>осенний костюм</td>\n",
       "      <td>Детская одежда и обувь</td>\n",
       "      <td>29</td>\n",
       "      <td>Осенний костюм для утренника в садикосенний ко...</td>\n",
       "    </tr>\n",
       "    <tr>\n",
       "      <th>2618997</th>\n",
       "      <td>iPhone 6 64 gb</td>\n",
       "      <td>Продам iPhone 6 в хорошем состоянии на 64 ГБ</td>\n",
       "      <td>Телефоны</td>\n",
       "      <td>84</td>\n",
       "      <td>iPhone 6 64 gbПродам iPhone 6 в хорошем состоя...</td>\n",
       "    </tr>\n",
       "    <tr>\n",
       "      <th>3674085</th>\n",
       "      <td>Черепаха</td>\n",
       "      <td>Отдам 2-ух черепах с аквариумом</td>\n",
       "      <td>Другие животные</td>\n",
       "      <td>93</td>\n",
       "      <td>ЧерепахаОтдам 2-ух черепах с аквариумом</td>\n",
       "    </tr>\n",
       "    <tr>\n",
       "      <th>3760228</th>\n",
       "      <td>Crocs 8</td>\n",
       "      <td>Отличное состояние , натуральная замша</td>\n",
       "      <td>Детская одежда и обувь</td>\n",
       "      <td>29</td>\n",
       "      <td>Crocs 8Отличное состояние , натуральная замша</td>\n",
       "    </tr>\n",
       "    <tr>\n",
       "      <th>3431587</th>\n",
       "      <td>Газобаллонное оборудование</td>\n",
       "      <td>Установим газобаллонное оборудование на Nissan...</td>\n",
       "      <td>Запчасти и аксессуары</td>\n",
       "      <td>10</td>\n",
       "      <td>Газобаллонное оборудованиеУстановим газобаллон...</td>\n",
       "    </tr>\n",
       "    <tr>\n",
       "      <th>...</th>\n",
       "      <td>...</td>\n",
       "      <td>...</td>\n",
       "      <td>...</td>\n",
       "      <td>...</td>\n",
       "      <td>...</td>\n",
       "    </tr>\n",
       "    <tr>\n",
       "      <th>389648</th>\n",
       "      <td>Платье</td>\n",
       "      <td>Вечернее платье 👗 , длинное в пол, новое</td>\n",
       "      <td>Одежда, обувь, аксессуары</td>\n",
       "      <td>27</td>\n",
       "      <td>ПлатьеВечернее платье 👗 , длинное в пол, новое</td>\n",
       "    </tr>\n",
       "    <tr>\n",
       "      <th>6614</th>\n",
       "      <td>Подставка для дисков</td>\n",
       "      <td>Подставка для дисков</td>\n",
       "      <td>Мебель и интерьер</td>\n",
       "      <td>20</td>\n",
       "      <td>Подставка для дисковПодставка для дисков</td>\n",
       "    </tr>\n",
       "    <tr>\n",
       "      <th>2642237</th>\n",
       "      <td>Пазлы</td>\n",
       "      <td>Все в отличном состоянии</td>\n",
       "      <td>Спорт и отдых</td>\n",
       "      <td>39</td>\n",
       "      <td>ПазлыВсе в отличном состоянии</td>\n",
       "    </tr>\n",
       "    <tr>\n",
       "      <th>1107298</th>\n",
       "      <td>Косметологический аппарат IM-5566</td>\n",
       "      <td>Косметологический аппарат IM-5566 предназначен...</td>\n",
       "      <td>Оборудование для бизнеса</td>\n",
       "      <td>40</td>\n",
       "      <td>Косметологический аппарат IM-5566Косметологиче...</td>\n",
       "    </tr>\n",
       "    <tr>\n",
       "      <th>2133546</th>\n",
       "      <td>Кровать</td>\n",
       "      <td>Продам двуспальную кровать, спальное место: ра...</td>\n",
       "      <td>Мебель и интерьер</td>\n",
       "      <td>20</td>\n",
       "      <td>КроватьПродам двуспальную кровать, спальное ме...</td>\n",
       "    </tr>\n",
       "  </tbody>\n",
       "</table>\n",
       "<p>500000 rows × 5 columns</p>\n",
       "</div>"
      ],
      "text/plain": [
       "                                        title  \\\n",
       "3308751  Осенний костюм для утренника в садик   \n",
       "2618997                        iPhone 6 64 gb   \n",
       "3674085                              Черепаха   \n",
       "3760228                               Crocs 8   \n",
       "3431587            Газобаллонное оборудование   \n",
       "...                                       ...   \n",
       "389648                                 Платье   \n",
       "6614                     Подставка для дисков   \n",
       "2642237                                 Пазлы   \n",
       "1107298     Косметологический аппарат IM-5566   \n",
       "2133546                               Кровать   \n",
       "\n",
       "                                               description  \\\n",
       "3308751                                     осенний костюм   \n",
       "2618997       Продам iPhone 6 в хорошем состоянии на 64 ГБ   \n",
       "3674085                    Отдам 2-ух черепах с аквариумом   \n",
       "3760228             Отличное состояние , натуральная замша   \n",
       "3431587  Установим газобаллонное оборудование на Nissan...   \n",
       "...                                                    ...   \n",
       "389648            Вечернее платье 👗 , длинное в пол, новое   \n",
       "6614                                  Подставка для дисков   \n",
       "2642237                           Все в отличном состоянии   \n",
       "1107298  Косметологический аппарат IM-5566 предназначен...   \n",
       "2133546  Продам двуспальную кровать, спальное место: ра...   \n",
       "\n",
       "                     Category_name  Category  \\\n",
       "3308751     Детская одежда и обувь        29   \n",
       "2618997                   Телефоны        84   \n",
       "3674085            Другие животные        93   \n",
       "3760228     Детская одежда и обувь        29   \n",
       "3431587      Запчасти и аксессуары        10   \n",
       "...                            ...       ...   \n",
       "389648   Одежда, обувь, аксессуары        27   \n",
       "6614             Мебель и интерьер        20   \n",
       "2642237              Спорт и отдых        39   \n",
       "1107298   Оборудование для бизнеса        40   \n",
       "2133546          Мебель и интерьер        20   \n",
       "\n",
       "                                         title&description  \n",
       "3308751  Осенний костюм для утренника в садикосенний ко...  \n",
       "2618997  iPhone 6 64 gbПродам iPhone 6 в хорошем состоя...  \n",
       "3674085            ЧерепахаОтдам 2-ух черепах с аквариумом  \n",
       "3760228      Crocs 8Отличное состояние , натуральная замша  \n",
       "3431587  Газобаллонное оборудованиеУстановим газобаллон...  \n",
       "...                                                    ...  \n",
       "389648      ПлатьеВечернее платье 👗 , длинное в пол, новое  \n",
       "6614              Подставка для дисковПодставка для дисков  \n",
       "2642237                      ПазлыВсе в отличном состоянии  \n",
       "1107298  Косметологический аппарат IM-5566Косметологиче...  \n",
       "2133546  КроватьПродам двуспальную кровать, спальное ме...  \n",
       "\n",
       "[500000 rows x 5 columns]"
      ]
     },
     "execution_count": 37,
     "metadata": {},
     "output_type": "execute_result"
    }
   ],
   "source": [
    "train"
   ]
  },
  {
   "cell_type": "code",
   "execution_count": 38,
   "metadata": {},
   "outputs": [],
   "source": [
    "vec = CountVectorizer(tokenizer=tokeniz)\n",
    "A2 = vec.fit_transform(train['title&description'])"
   ]
  },
  {
   "cell_type": "code",
   "execution_count": 42,
   "metadata": {},
   "outputs": [
    {
     "data": {
      "text/plain": [
       "<500000x379522 sparse matrix of type '<class 'numpy.int64'>'\n",
       "\twith 13691518 stored elements in Compressed Sparse Row format>"
      ]
     },
     "execution_count": 42,
     "metadata": {},
     "output_type": "execute_result"
    }
   ],
   "source": [
    "A2"
   ]
  },
  {
   "cell_type": "markdown",
   "metadata": {},
   "source": [
    "2."
   ]
  },
  {
   "cell_type": "code",
   "execution_count": 39,
   "metadata": {},
   "outputs": [],
   "source": [
    "from sklearn.model_selection import train_test_split"
   ]
  },
  {
   "cell_type": "code",
   "execution_count": 98,
   "metadata": {},
   "outputs": [],
   "source": [
    "X_train, X_test, y_train, y_test = train_test_split(A2, train[\"Category\"], test_size=0.2, random_state=np.random.seed())"
   ]
  },
  {
   "cell_type": "markdown",
   "metadata": {},
   "source": [
    "3."
   ]
  },
  {
   "cell_type": "code",
   "execution_count": 99,
   "metadata": {},
   "outputs": [],
   "source": [
    "from sklearn.linear_model import SGDClassifier\n",
    "from sklearn.metrics import classification_report"
   ]
  },
  {
   "cell_type": "code",
   "execution_count": 100,
   "metadata": {},
   "outputs": [],
   "source": [
    "sgd = SGDClassifier()\n",
    "sgd.fit(X_train, y_train)\n",
    "sgd_y_pred = sgd.predict(X_test)"
   ]
  },
  {
   "cell_type": "markdown",
   "metadata": {},
   "source": [
    "4."
   ]
  },
  {
   "cell_type": "code",
   "execution_count": 101,
   "metadata": {},
   "outputs": [
    {
     "name": "stdout",
     "output_type": "stream",
     "text": [
      "              precision    recall  f1-score   support\n",
      "\n",
      "           9       0.95      0.92      0.93      5107\n",
      "          10       0.86      0.90      0.88      5705\n",
      "          11       0.89      0.82      0.85       212\n",
      "          14       0.89      0.62      0.73       475\n",
      "          19       0.73      0.83      0.77      5642\n",
      "          20       0.73      0.83      0.77      6238\n",
      "          21       0.74      0.80      0.77      2779\n",
      "          23       0.94      0.90      0.92       470\n",
      "          24       0.98      0.99      0.98      5638\n",
      "          25       0.97      0.98      0.97      1937\n",
      "          26       0.99      0.98      0.99      1137\n",
      "          27       0.70      0.86      0.77      6707\n",
      "          28       0.85      0.85      0.85      2371\n",
      "          29       0.78      0.80      0.79      5081\n",
      "          30       0.77      0.73      0.75      4241\n",
      "          31       0.91      0.73      0.81       576\n",
      "          32       0.75      0.83      0.79      3317\n",
      "          33       0.78      0.72      0.75       125\n",
      "          34       0.88      0.74      0.80       802\n",
      "          36       0.65      0.64      0.65      4138\n",
      "          38       0.95      0.57      0.71       726\n",
      "          39       0.77      0.73      0.75      3392\n",
      "          40       0.87      0.44      0.58      1343\n",
      "          42       0.96      0.90      0.93       858\n",
      "          81       0.90      0.46      0.61       722\n",
      "          82       0.73      0.65      0.69       661\n",
      "          83       0.79      0.88      0.83      2355\n",
      "          84       0.92      0.90      0.91      4684\n",
      "          85       0.94      0.96      0.95       559\n",
      "          86       0.03      0.17      0.06         6\n",
      "          87       0.72      0.67      0.70      1710\n",
      "          88       0.77      0.80      0.79      2890\n",
      "          89       0.93      0.75      0.83       513\n",
      "          90       0.90      0.86      0.88       637\n",
      "          91       0.82      0.58      0.68       156\n",
      "          92       0.81      0.60      0.69       215\n",
      "          93       0.88      0.61      0.72       442\n",
      "          94       0.85      0.53      0.65       547\n",
      "          96       0.90      0.57      0.70       554\n",
      "          97       0.89      0.80      0.84      1095\n",
      "          98       0.92      0.72      0.81       695\n",
      "          99       0.86      0.67      0.75       816\n",
      "         101       0.75      0.76      0.76      2709\n",
      "         102       0.80      0.36      0.49       501\n",
      "         105       0.91      0.70      0.79       981\n",
      "         106       0.81      0.81      0.81       905\n",
      "         111       0.96      0.89      0.92      1049\n",
      "         112       0.88      0.51      0.64       498\n",
      "         114       0.80      0.82      0.81      4917\n",
      "         116       0.83      0.60      0.70       166\n",
      "\n",
      "    accuracy                           0.81    100000\n",
      "   macro avg       0.83      0.73      0.77    100000\n",
      "weighted avg       0.82      0.81      0.81    100000\n",
      "\n"
     ]
    }
   ],
   "source": [
    "print(classification_report(y_test, sgd_y_pred))"
   ]
  },
  {
   "cell_type": "markdown",
   "metadata": {},
   "source": [
    "ИТОГО: weighted accuracy = 81%. Если использовать для обучения все данные, она, вероятно, повысится. "
   ]
  },
  {
   "cell_type": "markdown",
   "metadata": {},
   "source": [
    "## Задание 8 (1 балл)\n",
    "\n",
    "1. Повторите 7 задание, но с tf-idf векторизатором. Как изменилось качество.\n",
    "2. Мы можем еще сильнее уменьшите размер нашей матрицы, если отбросим значения df близкие к единице. Скорее всего такие слова не несут много информации о категории, так как встречаются достаточно часто. Ограничьте максимальный df в параметрах TfIdfVectorizer, поставьте верхнюю границу равную 0.9. Как изменился размер матрицы, как изменилось качество?\n"
   ]
  },
  {
   "cell_type": "markdown",
   "metadata": {},
   "source": [
    "1."
   ]
  },
  {
   "cell_type": "code",
   "execution_count": 102,
   "metadata": {},
   "outputs": [],
   "source": [
    "from sklearn.feature_extraction.text import TfidfVectorizer"
   ]
  },
  {
   "cell_type": "code",
   "execution_count": 103,
   "metadata": {},
   "outputs": [],
   "source": [
    "tfidf_vec = TfidfVectorizer(tokenizer=tokeniz)\n",
    "A2 = tfidf_vec.fit_transform(train['title&description'])"
   ]
  },
  {
   "cell_type": "code",
   "execution_count": 104,
   "metadata": {},
   "outputs": [
    {
     "name": "stdout",
     "output_type": "stream",
     "text": [
      "Размер матрицы: (500000, 379522)\n"
     ]
    }
   ],
   "source": [
    "print(\"Размер матрицы:\", A2.shape)"
   ]
  },
  {
   "cell_type": "code",
   "execution_count": 105,
   "metadata": {},
   "outputs": [],
   "source": [
    "X_train, X_test, y_train, y_test = train_test_split(A2, train[\"Category\"], test_size=0.2, random_state=np.random.seed())"
   ]
  },
  {
   "cell_type": "code",
   "execution_count": 106,
   "metadata": {},
   "outputs": [],
   "source": [
    "sgd = SGDClassifier()\n",
    "sgd.fit(X_train, y_train)\n",
    "sgd_y_pred = sgd.predict(X_test)"
   ]
  },
  {
   "cell_type": "code",
   "execution_count": 107,
   "metadata": {},
   "outputs": [
    {
     "name": "stdout",
     "output_type": "stream",
     "text": [
      "              precision    recall  f1-score   support\n",
      "\n",
      "           9       0.86      0.97      0.91      5024\n",
      "          10       0.82      0.87      0.85      5657\n",
      "          11       0.81      0.82      0.82       175\n",
      "          14       0.86      0.50      0.63       478\n",
      "          19       0.74      0.77      0.75      5706\n",
      "          20       0.71      0.80      0.75      6047\n",
      "          21       0.77      0.73      0.75      2794\n",
      "          23       0.91      0.82      0.87       492\n",
      "          24       0.96      0.99      0.97      5722\n",
      "          25       0.93      0.98      0.96      1934\n",
      "          26       0.97      0.98      0.97      1118\n",
      "          27       0.73      0.83      0.78      6603\n",
      "          28       0.78      0.88      0.83      2428\n",
      "          29       0.75      0.77      0.76      5141\n",
      "          30       0.76      0.71      0.73      4299\n",
      "          31       0.76      0.70      0.73       565\n",
      "          32       0.76      0.82      0.79      3371\n",
      "          33       0.69      0.57      0.63       116\n",
      "          34       0.82      0.79      0.80       883\n",
      "          36       0.70      0.54      0.61      4102\n",
      "          38       0.89      0.66      0.76       729\n",
      "          39       0.80      0.66      0.72      3451\n",
      "          40       0.76      0.40      0.52      1303\n",
      "          42       0.89      0.91      0.90       879\n",
      "          81       0.83      0.45      0.58       679\n",
      "          82       0.73      0.70      0.71       687\n",
      "          83       0.65      0.91      0.76      2360\n",
      "          84       0.83      0.92      0.87      4567\n",
      "          85       0.90      0.96      0.93       497\n",
      "          86       0.00      0.00      0.00         9\n",
      "          87       0.71      0.65      0.68      1742\n",
      "          88       0.78      0.73      0.75      2944\n",
      "          89       0.89      0.78      0.83       545\n",
      "          90       0.76      0.93      0.84       612\n",
      "          91       0.70      0.57      0.63       162\n",
      "          92       0.76      0.67      0.71       207\n",
      "          93       0.81      0.62      0.70       479\n",
      "          94       0.79      0.46      0.58       545\n",
      "          96       0.78      0.55      0.65       523\n",
      "          97       0.77      0.82      0.80      1006\n",
      "          98       0.75      0.81      0.78       738\n",
      "          99       0.78      0.65      0.71       837\n",
      "         101       0.77      0.68      0.72      2703\n",
      "         102       0.52      0.32      0.39       485\n",
      "         105       0.85      0.79      0.82      1000\n",
      "         106       0.82      0.80      0.81       966\n",
      "         111       0.89      0.91      0.90      1105\n",
      "         112       0.84      0.32      0.46       518\n",
      "         114       0.79      0.79      0.79      4900\n",
      "         116       0.75      0.28      0.40       167\n",
      "\n",
      "    accuracy                           0.79    100000\n",
      "   macro avg       0.78      0.71      0.73    100000\n",
      "weighted avg       0.79      0.79      0.78    100000\n",
      "\n"
     ]
    },
    {
     "name": "stderr",
     "output_type": "stream",
     "text": [
      "C:\\Users\\vladimir\\anaconda3\\lib\\site-packages\\sklearn\\metrics\\_classification.py:1221: UndefinedMetricWarning: Precision and F-score are ill-defined and being set to 0.0 in labels with no predicted samples. Use `zero_division` parameter to control this behavior.\n",
      "  _warn_prf(average, modifier, msg_start, len(result))\n"
     ]
    }
   ],
   "source": [
    "print(classification_report(y_test, sgd_y_pred))"
   ]
  },
  {
   "cell_type": "markdown",
   "metadata": {},
   "source": [
    "ИТОГО: weighted accuracy = 79%. "
   ]
  },
  {
   "cell_type": "markdown",
   "metadata": {},
   "source": [
    "2."
   ]
  },
  {
   "cell_type": "code",
   "execution_count": 108,
   "metadata": {},
   "outputs": [],
   "source": [
    "tfidf_vec = TfidfVectorizer(tokenizer=tokeniz, max_df=0.9)\n",
    "A2 = tfidf_vec.fit_transform(train['title&description'])"
   ]
  },
  {
   "cell_type": "code",
   "execution_count": 109,
   "metadata": {},
   "outputs": [
    {
     "name": "stdout",
     "output_type": "stream",
     "text": [
      "Размер матрицы: (500000, 379522)\n"
     ]
    }
   ],
   "source": [
    "print(\"Размер матрицы:\", A2.shape)"
   ]
  },
  {
   "cell_type": "code",
   "execution_count": 110,
   "metadata": {},
   "outputs": [],
   "source": [
    "X_train, X_test, y_train, y_test = train_test_split(A2, train[\"Category\"], test_size=0.2, random_state=np.random.seed())"
   ]
  },
  {
   "cell_type": "code",
   "execution_count": 111,
   "metadata": {},
   "outputs": [],
   "source": [
    "sgd = SGDClassifier()\n",
    "sgd.fit(X_train, y_train)\n",
    "sgd_y_pred = sgd.predict(X_test)"
   ]
  },
  {
   "cell_type": "code",
   "execution_count": 112,
   "metadata": {},
   "outputs": [
    {
     "name": "stdout",
     "output_type": "stream",
     "text": [
      "              precision    recall  f1-score   support\n",
      "\n",
      "           9       0.86      0.97      0.91      4960\n",
      "          10       0.83      0.87      0.85      5719\n",
      "          11       0.83      0.84      0.84       217\n",
      "          14       0.83      0.49      0.62       532\n",
      "          19       0.74      0.76      0.75      5687\n",
      "          20       0.73      0.81      0.77      6272\n",
      "          21       0.78      0.74      0.76      2860\n",
      "          23       0.92      0.82      0.87       470\n",
      "          24       0.96      0.99      0.97      5637\n",
      "          25       0.93      0.98      0.96      1978\n",
      "          26       0.97      0.97      0.97      1095\n",
      "          27       0.73      0.84      0.78      6680\n",
      "          28       0.78      0.88      0.83      2374\n",
      "          29       0.75      0.77      0.76      5183\n",
      "          30       0.76      0.69      0.73      4306\n",
      "          31       0.80      0.70      0.75       595\n",
      "          32       0.75      0.82      0.78      3297\n",
      "          33       0.74      0.66      0.69       119\n",
      "          34       0.79      0.77      0.78       779\n",
      "          36       0.71      0.55      0.62      4074\n",
      "          38       0.93      0.66      0.77       733\n",
      "          39       0.80      0.65      0.72      3462\n",
      "          40       0.74      0.41      0.53      1290\n",
      "          42       0.87      0.94      0.90       863\n",
      "          81       0.82      0.47      0.60       684\n",
      "          82       0.75      0.72      0.73       700\n",
      "          83       0.66      0.91      0.76      2376\n",
      "          84       0.83      0.93      0.88      4468\n",
      "          85       0.88      0.97      0.92       539\n",
      "          86       0.00      0.00      0.00         3\n",
      "          87       0.70      0.65      0.67      1629\n",
      "          88       0.77      0.72      0.74      2884\n",
      "          89       0.87      0.74      0.80       529\n",
      "          90       0.76      0.90      0.82       606\n",
      "          91       0.73      0.62      0.67       143\n",
      "          92       0.77      0.69      0.73       205\n",
      "          93       0.81      0.60      0.69       516\n",
      "          94       0.73      0.45      0.56       536\n",
      "          96       0.83      0.58      0.69       586\n",
      "          97       0.79      0.83      0.81      1086\n",
      "          98       0.76      0.82      0.79       751\n",
      "          99       0.78      0.64      0.70       828\n",
      "         101       0.76      0.69      0.72      2698\n",
      "         102       0.57      0.32      0.41       505\n",
      "         105       0.85      0.81      0.83      1013\n",
      "         106       0.78      0.82      0.80       888\n",
      "         111       0.88      0.90      0.89      1117\n",
      "         112       0.88      0.32      0.46       526\n",
      "         114       0.77      0.78      0.78      4811\n",
      "         116       0.86      0.29      0.44       191\n",
      "\n",
      "    accuracy                           0.79    100000\n",
      "   macro avg       0.78      0.71      0.74    100000\n",
      "weighted avg       0.79      0.79      0.78    100000\n",
      "\n"
     ]
    }
   ],
   "source": [
    "print(classification_report(y_test, sgd_y_pred))"
   ]
  },
  {
   "cell_type": "markdown",
   "metadata": {},
   "source": [
    "ИТОГО: weighted accuracy = 79%. "
   ]
  },
  {
   "cell_type": "markdown",
   "metadata": {},
   "source": [
    "## Задание 9 (1 балл)\n",
    "Еще один популяпный трюк, который позволит уменьшить количество признаков называется hashing trick. Его суть в том, то мы случайно группируем признаки ииии  ..... складываем их! А потом удаляем исходные признаки. В итоге все наши признаки это просто суммы исходных. Звучит странно, но это отлично работает. Давайте проверим этот трюк в нашем сеттинге.\n",
    "Также при таком подходе вам не нужно хранить словарь token->index, что тоже иногда полезно.\n",
    "\n",
    "1. Повторите задание 7 с HashingVectorizer, укажите количество фичей равное 30000.\n",
    "2. Какой из трех подходов показал самый высокий результат?"
   ]
  },
  {
   "cell_type": "code",
   "execution_count": 113,
   "metadata": {},
   "outputs": [],
   "source": [
    "from sklearn.feature_extraction.text import HashingVectorizer"
   ]
  },
  {
   "cell_type": "code",
   "execution_count": 114,
   "metadata": {},
   "outputs": [
    {
     "name": "stderr",
     "output_type": "stream",
     "text": [
      "C:\\Users\\vladimir\\anaconda3\\lib\\site-packages\\sklearn\\feature_extraction\\text.py:484: UserWarning: The parameter 'token_pattern' will not be used since 'tokenizer' is not None'\n",
      "  warnings.warn(\"The parameter 'token_pattern' will not be used\"\n"
     ]
    }
   ],
   "source": [
    "vec = HashingVectorizer(tokenizer=tokeniz, n_features=30000)\n",
    "A2 = vec.fit_transform(train['title&description'])"
   ]
  },
  {
   "cell_type": "code",
   "execution_count": 115,
   "metadata": {},
   "outputs": [],
   "source": [
    "X_train, X_test, y_train, y_test = train_test_split(A2, train[\"Category\"], test_size=0.2, random_state=np.random.seed())"
   ]
  },
  {
   "cell_type": "code",
   "execution_count": 116,
   "metadata": {},
   "outputs": [],
   "source": [
    "sgd = SGDClassifier()\n",
    "sgd.fit(X_train, y_train)\n",
    "sgd_y_pred = sgd.predict(X_test)"
   ]
  },
  {
   "cell_type": "code",
   "execution_count": 117,
   "metadata": {},
   "outputs": [
    {
     "name": "stdout",
     "output_type": "stream",
     "text": [
      "              precision    recall  f1-score   support\n",
      "\n",
      "           9       0.85      0.96      0.90      5104\n",
      "          10       0.81      0.85      0.83      5771\n",
      "          11       0.86      0.83      0.84       233\n",
      "          14       0.77      0.40      0.53       480\n",
      "          19       0.70      0.71      0.71      5606\n",
      "          20       0.70      0.77      0.73      6147\n",
      "          21       0.72      0.71      0.72      2887\n",
      "          23       0.89      0.83      0.86       462\n",
      "          24       0.95      0.99      0.97      5716\n",
      "          25       0.91      0.98      0.95      1893\n",
      "          26       0.96      0.97      0.96      1080\n",
      "          27       0.69      0.82      0.75      6647\n",
      "          28       0.76      0.86      0.81      2424\n",
      "          29       0.74      0.73      0.73      5183\n",
      "          30       0.73      0.67      0.70      4288\n",
      "          31       0.78      0.73      0.75       563\n",
      "          32       0.73      0.79      0.76      3297\n",
      "          33       0.75      0.53      0.62       120\n",
      "          34       0.79      0.75      0.77       759\n",
      "          36       0.65      0.51      0.57      4152\n",
      "          38       0.86      0.59      0.70       714\n",
      "          39       0.77      0.59      0.67      3379\n",
      "          40       0.77      0.37      0.50      1330\n",
      "          42       0.90      0.92      0.91       878\n",
      "          81       0.77      0.46      0.58       697\n",
      "          82       0.71      0.66      0.69       671\n",
      "          83       0.77      0.87      0.81      2412\n",
      "          84       0.81      0.91      0.86      4573\n",
      "          85       0.87      0.95      0.91       505\n",
      "          86       0.00      0.00      0.00        12\n",
      "          87       0.69      0.61      0.65      1706\n",
      "          88       0.72      0.68      0.70      2908\n",
      "          89       0.84      0.76      0.80       530\n",
      "          90       0.77      0.92      0.84       611\n",
      "          91       0.75      0.41      0.53       167\n",
      "          92       0.72      0.57      0.64       235\n",
      "          93       0.76      0.56      0.64       490\n",
      "          94       0.74      0.46      0.57       527\n",
      "          96       0.79      0.55      0.65       565\n",
      "          97       0.74      0.80      0.77      1088\n",
      "          98       0.72      0.77      0.75       723\n",
      "          99       0.77      0.63      0.69       821\n",
      "         101       0.73      0.63      0.68      2710\n",
      "         102       0.16      0.27      0.20       505\n",
      "         105       0.85      0.75      0.80      1000\n",
      "         106       0.76      0.77      0.76       870\n",
      "         111       0.88      0.90      0.89      1085\n",
      "         112       0.75      0.32      0.45       458\n",
      "         114       0.75      0.78      0.77      4864\n",
      "         116       0.75      0.30      0.43       154\n",
      "\n",
      "    accuracy                           0.76    100000\n",
      "   macro avg       0.75      0.68      0.71    100000\n",
      "weighted avg       0.76      0.76      0.76    100000\n",
      "\n"
     ]
    }
   ],
   "source": [
    "print(classification_report(y_test, sgd_y_pred))"
   ]
  },
  {
   "cell_type": "markdown",
   "metadata": {},
   "source": [
    "ИТОГО: weighted accuracy = 76%. "
   ]
  },
  {
   "cell_type": "markdown",
   "metadata": {},
   "source": [
    "Лучше всего показатели у TfidfVectorizer"
   ]
  },
  {
   "cell_type": "markdown",
   "metadata": {},
   "source": [
    "## Задание 10 (1.5 балла)\n",
    "\n",
    "Пришло время выйти в мир. Отправляйтесь на Kaggle Inclass и сделайте первую посылку. Там вы найдете инструкцию как сформировать файл с предсказаниями и отправить его."
   ]
  },
  {
   "cell_type": "code",
   "execution_count": 118,
   "metadata": {},
   "outputs": [],
   "source": [
    "import csv"
   ]
  },
  {
   "cell_type": "code",
   "execution_count": 119,
   "metadata": {},
   "outputs": [
    {
     "data": {
      "text/html": [
       "<div>\n",
       "<style scoped>\n",
       "    .dataframe tbody tr th:only-of-type {\n",
       "        vertical-align: middle;\n",
       "    }\n",
       "\n",
       "    .dataframe tbody tr th {\n",
       "        vertical-align: top;\n",
       "    }\n",
       "\n",
       "    .dataframe thead th {\n",
       "        text-align: right;\n",
       "    }\n",
       "</style>\n",
       "<table border=\"1\" class=\"dataframe\">\n",
       "  <thead>\n",
       "    <tr style=\"text-align: right;\">\n",
       "      <th></th>\n",
       "      <th>title</th>\n",
       "      <th>description</th>\n",
       "      <th>itemid</th>\n",
       "      <th>title&amp;description</th>\n",
       "    </tr>\n",
       "  </thead>\n",
       "  <tbody>\n",
       "    <tr>\n",
       "      <th>0</th>\n",
       "      <td>Мастерка</td>\n",
       "      <td>Мастерка фирмы форвард. Белого цвета. В идеаль...</td>\n",
       "      <td>1778449823</td>\n",
       "      <td>МастеркаМастерка фирмы форвард. Белого цвета. ...</td>\n",
       "    </tr>\n",
       "    <tr>\n",
       "      <th>1</th>\n",
       "      <td>Зимние сапоги</td>\n",
       "      <td>Продаю зимние сапоги, в хорошем состоянии, все...</td>\n",
       "      <td>1677656962</td>\n",
       "      <td>Зимние сапогиПродаю зимние сапоги, в хорошем с...</td>\n",
       "    </tr>\n",
       "    <tr>\n",
       "      <th>2</th>\n",
       "      <td>Видеонаблюдение 8 камер</td>\n",
       "      <td>В комплект Atis AMD-2MIR-8kit входит: /\\n1. Ку...</td>\n",
       "      <td>1758182804</td>\n",
       "      <td>Видеонаблюдение 8 камерВ комплект Atis AMD-2MI...</td>\n",
       "    </tr>\n",
       "    <tr>\n",
       "      <th>3</th>\n",
       "      <td>Запчасти для GLE</td>\n",
       "      <td>Запчасти GLE</td>\n",
       "      <td>1689811299</td>\n",
       "      <td>Запчасти для GLEЗапчасти GLE</td>\n",
       "    </tr>\n",
       "    <tr>\n",
       "      <th>4</th>\n",
       "      <td>Бластер nerf</td>\n",
       "      <td>Состояние 5+/\\nПродаю потому что не нужен/\\n18...</td>\n",
       "      <td>1804706240</td>\n",
       "      <td>Бластер nerfСостояние 5+/\\nПродаю потому что н...</td>\n",
       "    </tr>\n",
       "  </tbody>\n",
       "</table>\n",
       "</div>"
      ],
      "text/plain": [
       "                     title                                        description  \\\n",
       "0                 Мастерка  Мастерка фирмы форвард. Белого цвета. В идеаль...   \n",
       "1            Зимние сапоги  Продаю зимние сапоги, в хорошем состоянии, все...   \n",
       "2  Видеонаблюдение 8 камер  В комплект Atis AMD-2MIR-8kit входит: /\\n1. Ку...   \n",
       "3         Запчасти для GLE                                       Запчасти GLE   \n",
       "4             Бластер nerf  Состояние 5+/\\nПродаю потому что не нужен/\\n18...   \n",
       "\n",
       "       itemid                                  title&description  \n",
       "0  1778449823  МастеркаМастерка фирмы форвард. Белого цвета. ...  \n",
       "1  1677656962  Зимние сапогиПродаю зимние сапоги, в хорошем с...  \n",
       "2  1758182804  Видеонаблюдение 8 камерВ комплект Atis AMD-2MI...  \n",
       "3  1689811299                       Запчасти для GLEЗапчасти GLE  \n",
       "4  1804706240  Бластер nerfСостояние 5+/\\nПродаю потому что н...  "
      ]
     },
     "execution_count": 119,
     "metadata": {},
     "output_type": "execute_result"
    }
   ],
   "source": [
    "test.head()"
   ]
  },
  {
   "cell_type": "code",
   "execution_count": 120,
   "metadata": {},
   "outputs": [
    {
     "name": "stderr",
     "output_type": "stream",
     "text": [
      "C:\\Users\\vladimir\\anaconda3\\lib\\site-packages\\sklearn\\feature_extraction\\text.py:484: UserWarning: The parameter 'token_pattern' will not be used since 'tokenizer' is not None'\n",
      "  warnings.warn(\"The parameter 'token_pattern' will not be used\"\n"
     ]
    }
   ],
   "source": [
    "vec = HashingVectorizer(tokenizer=tokeniz, n_features=30000)\n",
    "A2 = vec.fit_transform(test['title&description'])"
   ]
  },
  {
   "cell_type": "code",
   "execution_count": 121,
   "metadata": {},
   "outputs": [],
   "source": [
    "sgd_y_pred = sgd.predict(A2)"
   ]
  },
  {
   "cell_type": "code",
   "execution_count": 137,
   "metadata": {},
   "outputs": [
    {
     "data": {
      "text/html": [
       "<div>\n",
       "<style scoped>\n",
       "    .dataframe tbody tr th:only-of-type {\n",
       "        vertical-align: middle;\n",
       "    }\n",
       "\n",
       "    .dataframe tbody tr th {\n",
       "        vertical-align: top;\n",
       "    }\n",
       "\n",
       "    .dataframe thead th {\n",
       "        text-align: right;\n",
       "    }\n",
       "</style>\n",
       "<table border=\"1\" class=\"dataframe\">\n",
       "  <thead>\n",
       "    <tr style=\"text-align: right;\">\n",
       "      <th></th>\n",
       "      <th>Category</th>\n",
       "    </tr>\n",
       "    <tr>\n",
       "      <th>Id</th>\n",
       "      <th></th>\n",
       "    </tr>\n",
       "  </thead>\n",
       "  <tbody>\n",
       "    <tr>\n",
       "      <th>1778449823</th>\n",
       "      <td>29</td>\n",
       "    </tr>\n",
       "    <tr>\n",
       "      <th>1677656962</th>\n",
       "      <td>29</td>\n",
       "    </tr>\n",
       "    <tr>\n",
       "      <th>1758182804</th>\n",
       "      <td>32</td>\n",
       "    </tr>\n",
       "    <tr>\n",
       "      <th>1689811299</th>\n",
       "      <td>10</td>\n",
       "    </tr>\n",
       "    <tr>\n",
       "      <th>1804706240</th>\n",
       "      <td>29</td>\n",
       "    </tr>\n",
       "    <tr>\n",
       "      <th>...</th>\n",
       "      <td>...</td>\n",
       "    </tr>\n",
       "    <tr>\n",
       "      <th>902146704</th>\n",
       "      <td>19</td>\n",
       "    </tr>\n",
       "    <tr>\n",
       "      <th>1799983289</th>\n",
       "      <td>10</td>\n",
       "    </tr>\n",
       "    <tr>\n",
       "      <th>1177237748</th>\n",
       "      <td>29</td>\n",
       "    </tr>\n",
       "    <tr>\n",
       "      <th>1793055786</th>\n",
       "      <td>84</td>\n",
       "    </tr>\n",
       "    <tr>\n",
       "      <th>1109142980</th>\n",
       "      <td>36</td>\n",
       "    </tr>\n",
       "  </tbody>\n",
       "</table>\n",
       "<p>1411348 rows × 1 columns</p>\n",
       "</div>"
      ],
      "text/plain": [
       "            Category\n",
       "Id                  \n",
       "1778449823        29\n",
       "1677656962        29\n",
       "1758182804        32\n",
       "1689811299        10\n",
       "1804706240        29\n",
       "...              ...\n",
       "902146704         19\n",
       "1799983289        10\n",
       "1177237748        29\n",
       "1793055786        84\n",
       "1109142980        36\n",
       "\n",
       "[1411348 rows x 1 columns]"
      ]
     },
     "execution_count": 137,
     "metadata": {},
     "output_type": "execute_result"
    }
   ],
   "source": [
    "df = pd.DataFrame(sgd_y_pred, index=test['itemid'], columns = ['Category'])\n",
    "df = df.rename_axis('Id')\n",
    "df.to_csv('test_predict.csv')\n",
    "df"
   ]
  }
 ],
 "metadata": {
  "kernelspec": {
   "display_name": "Python 3",
   "language": "python",
   "name": "python3"
  },
  "language_info": {
   "codemirror_mode": {
    "name": "ipython",
    "version": 3
   },
   "file_extension": ".py",
   "mimetype": "text/x-python",
   "name": "python",
   "nbconvert_exporter": "python",
   "pygments_lexer": "ipython3",
   "version": "3.7.4"
  }
 },
 "nbformat": 4,
 "nbformat_minor": 2
}
